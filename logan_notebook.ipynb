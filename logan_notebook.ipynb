{
 "cells": [
  {
   "cell_type": "code",
   "execution_count": 2,
   "metadata": {},
   "outputs": [
    {
     "name": "stdout",
     "output_type": "stream",
     "text": [
      "118\n",
      "{'Bedford Dwellings': 2, 'Southside Slopes': 5, 'Southside Flates': 1, 'Lower Lawrenceville': 3, 'Bankville': 2, 'Squirrel Hill South': 6, 'Brighton Heights': 7, 'Broadhead Manor': 1, 'Brookline': 6, 'Hazelwood': 4, 'Overbrook': 1, 'Lincoln-Lemington-Belmar': 2, 'Windgap': 2, 'Troy Hill': 3, 'South Oakland': 1, 'Bloomfield': 1, 'Arlington': 1, 'Mount Washington': 4, 'Stanton Heights': 2, 'Crafton Heights': 3, 'East Hills': 1, 'East Liberty': 1, 'Hihgland Park': 1, 'Upper Lawrenceville': 1, 'Fineview': 1, 'Garfield': 2, 'Greenfield': 3, 'Perry South': 2, 'Elliott': 2, 'Morningside': 6, 'Marshall-Shadeland': 2, 'Beechview': 3, 'Central Lawrenceville': 2, 'Terrace Village': 2, 'Larimer': 1, 'Beltzhoover': 3, 'Allegheny Center': 2, 'Manchester': 1, 'Lincoln Place': 1, 'Sheraden': 3, 'Shadyside': 3, 'Spring Garden': 1, 'Oakwood': 1, 'Southside Flats': 1, 'New Homestead': 1, 'Mt. Oliver Neigborhood': 1, 'Carrick': 3, 'Spring Hill-City View': 2, 'West End': 1, 'Polish Hill': 2, 'Westwood': 2, 'Squirrel Hill North': 1, 'Homewood South': 2}\n"
     ]
    }
   ],
   "source": [
    "import pandas as pd\n",
    "import numpy as np\n",
    "%matplotlib inline\n",
    "import matplotlib.pyplot as plt\n",
    "nlist = dict()\n",
    "sum=0\n",
    "fields = pd.read_csv(\"fields.csv\")\n",
    "for index, row in fields.iterrows():\n",
    "    place = row['Neighborhood']\n",
    "    backstop = row ['Back Stop']\n",
    "    if place in nlist and backstop == 1:\n",
    "        nlist[place] = nlist[place]+1\n",
    "        sum+=1\n",
    "    if place not in nlist and backstop == 1:\n",
    "        nlist[place] = 1\n",
    "        sum+=1\n",
    "print(sum)\n",
    "print(nlist)"
   ]
  },
  {
   "cell_type": "code",
   "execution_count": null,
   "metadata": {},
   "outputs": [],
   "source": [
    "import pandas as pd\n",
    "import geopandas\n",
    "%matplotlib inline\n",
    "fields = pd.read_csv(\"fields.csv\")\n",
    "num_fields = fields.groupby(\"Neighborhood\").sum()['Back Stop']\n",
    "num_fields.sort_values(ascending=False)\n",
    "neighborhoods = geopandas.read_file(\"Neighborhoods/Neighborhoods_.shp\")\n",
    "fields_map = neighborhoods.merge(num_fields, how='left', left_on='hood', right_on='Neighborhood')\n",
    "fields_map[['hood','Back Stop','geometry']].head()\n",
    "fields_map.plot(column='Back Stop',\n",
    "               cmap='Blues',\n",
    "               edgecolor=\"black\",       \n",
    "               legend=True,\n",
    "               legend_kwds={'label': \"Number of Fields\"},\n",
    "               figsize=(15, 9),       \n",
    "               missing_kwds={\"color\": \"beige\"} \n",
    "               )"
   ]
  }
 ],
 "metadata": {
  "kernelspec": {
   "display_name": "Python 3",
   "language": "python",
   "name": "python3"
  },
  "language_info": {
   "codemirror_mode": {
    "name": "ipython",
    "version": 3
   },
   "file_extension": ".py",
   "mimetype": "text/x-python",
   "name": "python",
   "nbconvert_exporter": "python",
   "pygments_lexer": "ipython3",
   "version": "3.8.3"
  }
 },
 "nbformat": 4,
 "nbformat_minor": 4
}
